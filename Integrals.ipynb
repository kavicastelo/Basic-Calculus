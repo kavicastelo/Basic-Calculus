{
 "cells": [
  {
   "cell_type": "code",
   "execution_count": 16,
   "metadata": {
    "collapsed": true,
    "ExecuteTime": {
     "end_time": "2024-10-30T15:21:21.455660Z",
     "start_time": "2024-10-30T15:21:21.384765700Z"
    }
   },
   "outputs": [],
   "source": [
    "from sympy import symbols, integrate, exp"
   ]
  },
  {
   "cell_type": "markdown",
   "source": [
    "f(x)=3*x^2 + 4x+5"
   ],
   "metadata": {
    "collapsed": false
   }
  },
  {
   "cell_type": "code",
   "execution_count": 17,
   "outputs": [],
   "source": [
    "x = symbols('x')\n",
    "f = 3*x**2 + 4*x + 5"
   ],
   "metadata": {
    "collapsed": false,
    "ExecuteTime": {
     "end_time": "2024-10-30T15:21:21.457357600Z",
     "start_time": "2024-10-30T15:21:21.397414700Z"
    }
   }
  },
  {
   "cell_type": "code",
   "execution_count": 18,
   "outputs": [
    {
     "name": "stdout",
     "output_type": "stream",
     "text": [
      "The indefinite integral of f(x) is: x**3 + 2*x**2 + 5*x\n"
     ]
    }
   ],
   "source": [
    "# Calculate the indefinite integral of f(x)\n",
    "integral_f = integrate(f, x)\n",
    "print(f\"The indefinite integral of f(x) is: {integral_f}\")"
   ],
   "metadata": {
    "collapsed": false,
    "ExecuteTime": {
     "end_time": "2024-10-30T15:21:21.488412300Z",
     "start_time": "2024-10-30T15:21:21.402618400Z"
    }
   }
  },
  {
   "cell_type": "markdown",
   "source": [
    "f(x)=2*x^3 + 3*x^2 + 1"
   ],
   "metadata": {
    "collapsed": false
   }
  },
  {
   "cell_type": "code",
   "execution_count": 19,
   "outputs": [],
   "source": [
    "x = symbols('x')\n",
    "f = 2*x**3 - 3*x**2 + 1"
   ],
   "metadata": {
    "collapsed": false,
    "ExecuteTime": {
     "end_time": "2024-10-30T15:21:21.491376700Z",
     "start_time": "2024-10-30T15:21:21.447198Z"
    }
   }
  },
  {
   "cell_type": "code",
   "execution_count": 20,
   "outputs": [
    {
     "name": "stdout",
     "output_type": "stream",
     "text": [
      "The indefinite integral of f(x) is: x**4/2 - x**3 + x\n"
     ]
    }
   ],
   "source": [
    "# Calculate the indefinite integral of f(x)\n",
    "integral_f = integrate(f, x)\n",
    "print(f\"The indefinite integral of f(x) is: {integral_f}\")"
   ],
   "metadata": {
    "collapsed": false,
    "ExecuteTime": {
     "end_time": "2024-10-30T15:21:21.492529100Z",
     "start_time": "2024-10-30T15:21:21.451319200Z"
    }
   }
  },
  {
   "cell_type": "markdown",
   "source": [
    "h(x)=e^x + x^2"
   ],
   "metadata": {
    "collapsed": false
   }
  },
  {
   "cell_type": "code",
   "execution_count": 21,
   "outputs": [],
   "source": [
    "x = symbols('x')\n",
    "h = x*exp(x) + x**2"
   ],
   "metadata": {
    "collapsed": false,
    "ExecuteTime": {
     "end_time": "2024-10-30T15:21:21.492529100Z",
     "start_time": "2024-10-30T15:21:21.458421Z"
    }
   }
  },
  {
   "cell_type": "code",
   "execution_count": 22,
   "outputs": [
    {
     "name": "stdout",
     "output_type": "stream",
     "text": [
      "The indefinite integral of h(x) is: x**3/3 + (x - 1)*exp(x)\n"
     ]
    }
   ],
   "source": [
    "# Calculate the indefinite integral of h(x)\n",
    "integral_h = integrate(h, x)\n",
    "print(f\"The indefinite integral of h(x) is: {integral_h}\")"
   ],
   "metadata": {
    "collapsed": false,
    "ExecuteTime": {
     "end_time": "2024-10-30T15:21:21.504199400Z",
     "start_time": "2024-10-30T15:21:21.465455300Z"
    }
   }
  }
 ],
 "metadata": {
  "kernelspec": {
   "display_name": "Python 3",
   "language": "python",
   "name": "python3"
  },
  "language_info": {
   "codemirror_mode": {
    "name": "ipython",
    "version": 2
   },
   "file_extension": ".py",
   "mimetype": "text/x-python",
   "name": "python",
   "nbconvert_exporter": "python",
   "pygments_lexer": "ipython2",
   "version": "2.7.6"
  }
 },
 "nbformat": 4,
 "nbformat_minor": 0
}
