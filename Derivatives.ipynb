{
 "cells": [
  {
   "cell_type": "code",
   "execution_count": 7,
   "metadata": {
    "collapsed": true,
    "ExecuteTime": {
     "end_time": "2024-10-30T14:14:37.707236800Z",
     "start_time": "2024-10-30T14:14:37.703305400Z"
    }
   },
   "outputs": [],
   "source": [
    "from sympy import symbols, diff, cos, sin"
   ]
  },
  {
   "cell_type": "markdown",
   "source": [
    "f(x)=3x^2+4x+5"
   ],
   "metadata": {
    "collapsed": false
   }
  },
  {
   "cell_type": "code",
   "execution_count": 8,
   "outputs": [],
   "source": [
    "# Define the variable and the function\n",
    "x = symbols('x')\n",
    "f = 3*x**2 + 4*x + 5"
   ],
   "metadata": {
    "collapsed": false,
    "ExecuteTime": {
     "end_time": "2024-10-30T14:14:41.260285400Z",
     "start_time": "2024-10-30T14:14:41.252939400Z"
    }
   }
  },
  {
   "cell_type": "code",
   "execution_count": 9,
   "outputs": [
    {
     "name": "stdout",
     "output_type": "stream",
     "text": [
      "The derivative of f(x) is: 6*x + 4\n"
     ]
    }
   ],
   "source": [
    "f_prime = diff(f, x)\n",
    "print(f\"The derivative of f(x) is: {f_prime}\")"
   ],
   "metadata": {
    "collapsed": false,
    "ExecuteTime": {
     "end_time": "2024-10-30T14:14:42.850118300Z",
     "start_time": "2024-10-30T14:14:42.827201700Z"
    }
   }
  },
  {
   "cell_type": "markdown",
   "source": [
    "f(x)=x^3 -2x^2 + x"
   ],
   "metadata": {
    "collapsed": false
   }
  },
  {
   "cell_type": "code",
   "execution_count": 10,
   "outputs": [],
   "source": [
    "# Define the variable and the function\n",
    "x = symbols('x')\n",
    "f = x**3 - 2*x**2 + x"
   ],
   "metadata": {
    "collapsed": false,
    "ExecuteTime": {
     "end_time": "2024-10-30T14:14:45.712688700Z",
     "start_time": "2024-10-30T14:14:45.690949100Z"
    }
   }
  },
  {
   "cell_type": "code",
   "execution_count": 11,
   "outputs": [
    {
     "name": "stdout",
     "output_type": "stream",
     "text": [
      "The derivative of f(x) is: 3*x**2 - 4*x + 1\n"
     ]
    }
   ],
   "source": [
    "f_prime = diff(f, x)\n",
    "print(f\"The derivative of f(x) is: {f_prime}\")"
   ],
   "metadata": {
    "collapsed": false,
    "ExecuteTime": {
     "end_time": "2024-10-30T14:14:47.110435700Z",
     "start_time": "2024-10-30T14:14:47.100197500Z"
    }
   }
  },
  {
   "cell_type": "markdown",
   "source": [
    "g(x)=sin(x)+cos(x)"
   ],
   "metadata": {
    "collapsed": false
   }
  },
  {
   "cell_type": "code",
   "execution_count": 12,
   "outputs": [],
   "source": [
    "# Define the variable and the function\n",
    "x = symbols('x')\n",
    "g = sin(x) + cos(x)"
   ],
   "metadata": {
    "collapsed": false,
    "ExecuteTime": {
     "end_time": "2024-10-30T14:14:49.561427500Z",
     "start_time": "2024-10-30T14:14:49.553430100Z"
    }
   }
  },
  {
   "cell_type": "code",
   "execution_count": 13,
   "outputs": [
    {
     "name": "stdout",
     "output_type": "stream",
     "text": [
      "The derivative of g(x) is: -sin(x) + cos(x)\n"
     ]
    }
   ],
   "source": [
    "g_prime = diff(g, x)\n",
    "print(f\"The derivative of g(x) is: {g_prime}\")"
   ],
   "metadata": {
    "collapsed": false,
    "ExecuteTime": {
     "end_time": "2024-10-30T14:14:51.071295Z",
     "start_time": "2024-10-30T14:14:51.064294600Z"
    }
   }
  }
 ],
 "metadata": {
  "kernelspec": {
   "display_name": "Python 3",
   "language": "python",
   "name": "python3"
  },
  "language_info": {
   "codemirror_mode": {
    "name": "ipython",
    "version": 2
   },
   "file_extension": ".py",
   "mimetype": "text/x-python",
   "name": "python",
   "nbconvert_exporter": "python",
   "pygments_lexer": "ipython2",
   "version": "2.7.6"
  }
 },
 "nbformat": 4,
 "nbformat_minor": 0
}
